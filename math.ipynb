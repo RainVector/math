{
 "cells": [
  {
   "cell_type": "markdown",
   "metadata": {},
   "source": [
    "1. $\\int_{0}^{\\infty} cos(x) dx$ 发散？正确，因为$cos(x)$是余弦函数，积分是一直在变化的，并不会在$x$趋于$\\infty$的时候趋于一个定值。所以是发散的.\n",
    "2. 定积分 $I = \\int_{\\frac{\\pi}{4}}^{\\frac{\\pi}{2}} \\frac{sin(x)}{x} dx $的值满足：\n",
    "$\\int_{\\pi/4}^{\\pi/2}{{{\\sin x}\\over{x}}}\\,dx = 0.6161428328787234$\n",
    "3. $\\int_{1}^{\\infty} \\frac{1}{x \\sqrt{x^2 -1}} dx$ 收敛\n",
    "4. 由函数$y= e^{\\mu},\\mu=x^2$复合而成的函数是：$y=e^{x^2}$\n",
    "5. 第二类换元法求$\\int \\sqrt{x^2 - a^2}dx (a>0)$时，合适的代换是：\n",
    "题目中有平方，所以最好能够将根号去掉，应该选$x=asint$\n",
    "$$\\int \\sqrt{x^2 - a^2}dx =\\int \\sqrt{a^2 sin^2{t}- a^2}d(asint) = \\int \\sqrt{a^2 cos^2 t} \\cdot a cost dt= \\int a^2 cos^2t dt $$\n",
    "6. 曲线 $y = \\left | \\ln x \\right|$与直线 $x = 1/e, x = e, y = 0$围成的图形面积"
   ]
  },
  {
   "cell_type": "code",
   "execution_count": 18,
   "metadata": {},
   "outputs": [
    {
     "data": {
      "image/png": "[encoded data removed]",
      "text/plain": [
       "<Figure size 432x288 with 1 Axes>"
      ]
     },
     "metadata": {},
     "output_type": "display_data"
    }
   ],
   "source": [
    "import numpy as np\n",
    "import matplotlib.pyplot as plt\n",
    "pi = np.pi\n",
    "x = np.linspace(0.1, 50.0, 100)\n",
    "y = np.log(x)/x\n",
    "plt.plot(x,np.absolute(y))\n",
    "plt.show()"
   ]
  },
  {
   "cell_type": "markdown",
   "metadata": {},
   "source": [
    "从上图，可以看出来$y = \\left | \\ln x \\right|$ 的图形，我们应该分段计算，$\\ln 1 = 0$,所以 $[1/e,1],[1,e]$分两段计算，并且令 $x = e^{t}$：\n",
    "$$y =\\int_{1/e}^{e} \\left | \\ln x \\right| dx = -\\int_{1/e}^{1}  \\ln x  dx + \\int_{1}^{e}  \\ln x  dx = - \\int_{-1}^{0}t e^t dt + - \\int_{0}^{1}t e^t dt = - e^t \\|^{0}_{-1} + e^t \\|^{1}_{0} = e + 1/e - 2$$\n"
   ]
  },
  {
   "cell_type": "markdown",
   "metadata": {},
   "source": [
    "1. 假定 $f(x_{0}) = \\lim_ {h \\to 0}\\frac{f(x_0+h)-f(x_0 -h)}{h} = A $那么 \n",
    "$$f(x_{0}) =\\lim_ {h \\to 0}\\frac{f(x_0+h)- f(x_0) + f(x_0) - f(x_0 -h)}{h} = 2 f'(x_{0}) $$\n",
    "2. 以下各题过程不正确的是：明显是第三个$\\int_{0}^{2} \\frac{xdx}{1-x^2}$。因为他积分上下限没有改变。\n",
    "3. 如$f(x) = x^3 - \\ln x$, 那么$f'(x)= 3x^2 - \\frac{1}{x} = 3-1 = 2$\n",
    "4. 有拐点只能说明${f}''(x_0)$存在，并不能确定它的值是多少。\n",
    "5. 弹簧由原长增长的，所以积分的上下限应该是$[0,6]$。\n",
    "6. $\\int \\frac{dx}{\\sqrt{x}} = 2x^{\\frac{1}{2}}$\n",
    "7. 函数$y = x^2 + x - 2$，M点斜率为3，求M点坐标。\n",
    "答： $y' = 2x + 1 = 3$的出，$x = 1， y = 1 + 1 - 2 =0$。所以M点坐标$(1,0)$\n",
    "8. 函数 $f(x)$ 在点$x_0$处导数的定义：$\\lim_{x \\to x_0} \\frac{f(x) - f(x_0)}{x-x_0}$\n",
    "9. 函数 $f(x)$ 在点$x_0$处可导，是$f(x)$在点$x_0$可微的： 必要不充分条件。\n",
    "可微一定可导，可导不一定可微\n",
    "10. $f'(e^x) = e^x sin e^x$, 令 $t = e^x, x = \\ln t$，$f'(t) = t sin t$, $f(t) = sin(t)-xcos(t) + C$ ，$t$和$x$又不是一回事儿。\n",
    "11. $\\lim_{x \\to 0} x sin\\frac{1}{x} = \\lim_{x \\to 0} \\frac{sin\\frac{1}{x}}{\\frac{1}{x}} = \\lim_{t \\to \\infty} \\frac{sint}{t}$ 是个不固定的值。"
   ]
  }
 ],
 "metadata": {
  "kernelspec": {
   "display_name": "Python 3",
   "language": "python",
   "name": "python3"
  },
  "language_info": {
   "codemirror_mode": {
    "name": "ipython",
    "version": 3
   },
   "file_extension": ".py",
   "mimetype": "text/x-python",
   "name": "python",
   "nbconvert_exporter": "python",
   "pygments_lexer": "ipython3",
   "version": "3.6.5"
  }
 },
 "nbformat": 4,
 "nbformat_minor": 2
}
